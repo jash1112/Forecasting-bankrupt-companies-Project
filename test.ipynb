{
 "cells": [
  {
   "cell_type": "code",
   "execution_count": 3,
   "metadata": {},
   "outputs": [],
   "source": [
    "# Database configuration\n",
    "from flask import Flask, jsonify, render_template, request\n",
    "from sqlalchemy import create_engine, Column, Integer, String, Float\n",
    "from sqlalchemy.ext.declarative import declarative_base\n",
    "from sqlalchemy.orm import sessionmaker, Session\n",
    "from sqlalchemy.ext.automap import automap_base\n",
    "from sqlalchemy import MetaData\n",
    "\n",
    "# Flask app setup\n",
    "app = Flask(__name__)\n",
    "\n",
    "# Database configuration\n",
    "render_username = 'forecating_companies_future_user'\n",
    "render_password = 'qRvkrYzSYuo6TvDWAh8SMcQokhT5pYyb'\n",
    "render_host = 'dpg-cog4tdmv3ddc73e67q00-a.ohio-postgres.render.com'\n",
    "database = 'forecating_companies_future'\n",
    "engine = create_engine(f\"postgresql+psycopg2://{render_username}:{render_password}@{render_host}:5432/{database}\")\n",
    "Base = automap_base()\n",
    "# SQLAlchemy setup\n",
    "# SQLAlchemy setup\n",
    "metadata = MetaData()\n",
    "engine = create_engine(f\"postgresql+psycopg2://{render_username}:{render_password}@{render_host}:5432/{database}\")\n",
    "\n",
    "# Reflect the tables\n",
    "metadata.reflect(engine)\n",
    "\n",
    "# Check if the table name exists\n",
    "if 'Company_Data' in metadata.tables:\n",
    "    company_data = metadata.tables['Company_Data']\n",
    "else:\n",
    "    print(\"Table 'Company_Data' does not exist in the database.\")"
   ]
  },
  {
   "cell_type": "code",
   "execution_count": 5,
   "metadata": {},
   "outputs": [
    {
     "data": {
      "text/plain": [
       "Table('Company_Data', MetaData(), Column('index', BIGINT(), table=<Company_Data>), Column('Name', TEXT(), table=<Company_Data>), Column('year', BIGINT(), table=<Company_Data>), Column('Current ratio', TEXT(), table=<Company_Data>), Column('Quick Ratio', TEXT(), table=<Company_Data>), Column('Cash ratio', TEXT(), table=<Company_Data>), Column('Operating cash flow ratio', TEXT(), table=<Company_Data>), Column('Working capital ratio', TEXT(), table=<Company_Data>), Column('Return On Equity (ROE)', TEXT(), table=<Company_Data>), Column('Net profit margin', TEXT(), table=<Company_Data>), Column('Sales turnover ratio', TEXT(), table=<Company_Data>), Column('Return On Assets (ROA)', TEXT(), table=<Company_Data>), Column('EPS', DOUBLE_PRECISION(precision=53), table=<Company_Data>), Column('Debt-to-assets ratio', TEXT(), table=<Company_Data>), Column('Equity Ratio', TEXT(), table=<Company_Data>), Column('Debt to equity ratio', TEXT(), table=<Company_Data>), Column('Interest coverage ratio', DOUBLE_PRECISION(precision=53), table=<Company_Data>), Column('The Long-Term Debt Coverage Ratio', DOUBLE_PRECISION(precision=53), table=<Company_Data>), Column('Total debt to EBITDA ratio', DOUBLE_PRECISION(precision=53), table=<Company_Data>), Column('Cash flow to debt ratio', TEXT(), table=<Company_Data>), Column('Inventory turnover ratio', DOUBLE_PRECISION(precision=53), table=<Company_Data>), Column('Receivables turnover ratio', DOUBLE_PRECISION(precision=53), table=<Company_Data>), Column('Asset Turnover Ratio', TEXT(), table=<Company_Data>), Column('Working capital turnover ratio', DOUBLE_PRECISION(precision=53), table=<Company_Data>), Column('EBITDA', DOUBLE_PRECISION(precision=53), table=<Company_Data>), Column('EV/EBITDA', DOUBLE_PRECISION(precision=53), table=<Company_Data>), Column('EV / EBIT', DOUBLE_PRECISION(precision=53), table=<Company_Data>), Column('EV / Free Cash Flow', DOUBLE_PRECISION(precision=53), table=<Company_Data>), Column('EV / Invested Capital', DOUBLE_PRECISION(precision=53), table=<Company_Data>), Column('EV / Revenue', DOUBLE_PRECISION(precision=53), table=<Company_Data>), Column('P/E Ratio', DOUBLE_PRECISION(precision=53), table=<Company_Data>), Column('Price/Book', DOUBLE_PRECISION(precision=53), table=<Company_Data>), Column('Dividend Per Share', DOUBLE_PRECISION(precision=53), table=<Company_Data>), Column('Piotroski Score', BIGINT(), table=<Company_Data>), Column('Classification', BIGINT(), table=<Company_Data>), schema=None)"
      ]
     },
     "execution_count": 5,
     "metadata": {},
     "output_type": "execute_result"
    }
   ],
   "source": [
    "company_data"
   ]
  },
  {
   "cell_type": "code",
   "execution_count": null,
   "metadata": {},
   "outputs": [],
   "source": []
  }
 ],
 "metadata": {
  "kernelspec": {
   "display_name": "base",
   "language": "python",
   "name": "python3"
  },
  "language_info": {
   "codemirror_mode": {
    "name": "ipython",
    "version": 3
   },
   "file_extension": ".py",
   "mimetype": "text/x-python",
   "name": "python",
   "nbconvert_exporter": "python",
   "pygments_lexer": "ipython3",
   "version": "3.11.5"
  }
 },
 "nbformat": 4,
 "nbformat_minor": 2
}
